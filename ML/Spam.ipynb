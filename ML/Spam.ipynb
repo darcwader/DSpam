{
 "cells": [
  {
   "cell_type": "markdown",
   "metadata": {},
   "source": [
    "# Building offline iPhone spam classifier using coreml\n",
    "\n",
    "iOS 11 introduced message extension to filter spam messages and coreml to build custom machine learned models to predict spam or not. In this article I’ll go over all the steps I took to build a machine learning model and how I added it to an iphone project.\n",
    "\n",
    "## Load Modules"
   ]
  },
  {
   "cell_type": "code",
   "execution_count": 1,
   "metadata": {},
   "outputs": [
    {
     "name": "stderr",
     "output_type": "stream",
     "text": [
      "Vendor:  Continuum Analytics, Inc.\n",
      "Package: mkl\n",
      "Message: trial mode expires in 29 days\n",
      "/Users/darshansonde/anaconda2/envs/education/lib/python2.7/site-packages/IPython/core/interactiveshell.py:2881: FutureWarning: \n",
      "mpl_style had been deprecated and will be removed in a future version.\n",
      "Use `matplotlib.pyplot.style.use` instead.\n",
      "\n",
      "  exec(code_obj, self.user_global_ns, self.user_ns)\n"
     ]
    }
   ],
   "source": [
    "%matplotlib inline\n",
    "from io import open\n",
    "import matplotlib.pyplot as plt\n",
    "import csv\n",
    "from textblob import TextBlob\n",
    "import pandas\n",
    "import sklearn\n",
    "import pickle\n",
    "import numpy as np\n",
    "import pandas as pd\n",
    "from sklearn.feature_extraction.text import CountVectorizer, TfidfTransformer, TfidfVectorizer\n",
    "from sklearn.naive_bayes import MultinomialNB\n",
    "from sklearn.svm import SVC, LinearSVC\n",
    "from sklearn.metrics import classification_report, f1_score, accuracy_score, confusion_matrix\n",
    "from sklearn.pipeline import Pipeline\n",
    "from sklearn.grid_search import GridSearchCV\n",
    "from sklearn.cross_validation import StratifiedKFold, cross_val_score, train_test_split \n",
    "#from sklearn.model_selection import StratifiedKFold, cross_val_score, train_test_split \n",
    "from sklearn.tree import DecisionTreeClassifier \n",
    "from sklearn.learning_curve import learning_curve\n",
    "from nltk.stem.snowball import SnowballStemmer\n",
    "from nltk.stem.porter import PorterStemmer\n",
    "from nltk.tokenize import word_tokenize\n",
    "import string\n",
    "plt.style.use('ggplot')\n",
    "pd.options.display.mpl_style = 'default'"
   ]
  },
  {
   "cell_type": "markdown",
   "metadata": {},
   "source": [
    "# Data\n",
    "\n",
    "SMSSpamCollection lets load and understand the data.\n"
   ]
  },
  {
   "cell_type": "code",
   "execution_count": 2,
   "metadata": {},
   "outputs": [
    {
     "name": "stdout",
     "output_type": "stream",
     "text": [
      "there are 433 messages\n",
      "(0, u'ham\\tDear Customer, Purchase of INR AMT has been made on Debit Card linked to Acct on 30-Oct-17. Info: IIN*PAYTM      . The Available Balance is INR AMT.')\n",
      "(1, u'ham\\tDear Customer, Govt. of India has mandated Aadhaar updation in bank accounts. Ensure uninterrupted banking services by updating your Aadhaar at goo.gl/Bzh9iA')\n",
      "(2, u'ham\\tDear Customer, your Account XX has been debited with INR AMT on 06-Oct-17. Info: DECS*S.B.I., R.A.C.P.C.,*044. The Available Balance is INR AMT')\n",
      "(3, u'ham\\tAdded Rs. AMT to your Paytm wallet. Transaction ID: DIGITDIGITDIGITDIGITDIGITDIGITDIGITDIGITDIGITDIGIT. Current Balance: 1283.52. Rs100 Cashback on Bus Tickets')\n",
      "(4, u'ham\\tWe have received a Paytm login request from a new phone at 02:09 PM, 23 October.If you did not attempt this, please raise a query at paytm.com/care or call us at 0120-3888388')\n",
      "(5, u'ham\\tUse DIGITDIGITDIGITDIGITDIGITDIGIT as your login OTP. OTP is confidential. Paytm never calls you asking for OTP. Sharing it with anyone gives them full access to your Paytm Wallet.')\n",
      "(6, u'ham\\tSave yourself from fraud: NEVER set a password suggested by anyone. Reset password link: https://a.p-y.tm/3qxh2lh1t2hd392 (Do not forward this to anyone)')\n",
      "(7, u'ham\\tYou paid UBER Rs. AMT. Now book your train e-tickets on Paytm & enjoy 100% cashback on transaction charges. Use code TZERO http://m.p-y.tm/Ubtrn')\n",
      "(8, u'ham\\tReceived Rs. AMT from in your Paytm Wallet. Wallet txn id: 14119929998. For Billpayments Visit Paytm.')\n",
      "(9, u'ham\\tAdded Rs. 4500 to your Paytm wallet. Transaction ID: DIGITDIGITDIGITDIGITDIGITDIGITDIGITDIGITDIGITDIGIT. Current Balance: AMT. Shop at Croma Stores http://m.p-y.tm/Cr Get Offers')\n"
     ]
    }
   ],
   "source": [
    "fpath = '/Users/darshansonde/Code/ml/DSpam/ML/'\n",
    "file_name = fpath + 'SMS2017India.csv'\n",
    "with open(file_name) as f:\n",
    "    corpus = f.readlines()\n",
    "\n",
    "print(\"there are {} messages\".format(len(corpus)))\n",
    "    \n",
    "\n",
    "corpus = [x.strip() for x in corpus]\n",
    "\n",
    "for i,message in enumerate(corpus[:10]):\n",
    "    print(i, message)"
   ]
  },
  {
   "cell_type": "markdown",
   "metadata": {},
   "source": [
    "There spam and ham messages are separated by tab. we can use a csv loader to read."
   ]
  },
  {
   "cell_type": "code",
   "execution_count": 3,
   "metadata": {},
   "outputs": [
    {
     "data": {
      "text/html": [
       "<div>\n",
       "<table border=\"1\" class=\"dataframe\">\n",
       "  <thead>\n",
       "    <tr style=\"text-align: right;\">\n",
       "      <th></th>\n",
       "      <th>label</th>\n",
       "      <th>message</th>\n",
       "    </tr>\n",
       "  </thead>\n",
       "  <tbody>\n",
       "    <tr>\n",
       "      <th>0</th>\n",
       "      <td>ham</td>\n",
       "      <td>Dear Customer, Purchase of INR AMT has been ma...</td>\n",
       "    </tr>\n",
       "    <tr>\n",
       "      <th>1</th>\n",
       "      <td>ham</td>\n",
       "      <td>Dear Customer, Govt. of India has mandated Aad...</td>\n",
       "    </tr>\n",
       "    <tr>\n",
       "      <th>2</th>\n",
       "      <td>ham</td>\n",
       "      <td>Dear Customer, your Account XX has been debite...</td>\n",
       "    </tr>\n",
       "    <tr>\n",
       "      <th>3</th>\n",
       "      <td>ham</td>\n",
       "      <td>Added Rs. AMT to your Paytm wallet. Transactio...</td>\n",
       "    </tr>\n",
       "    <tr>\n",
       "      <th>4</th>\n",
       "      <td>ham</td>\n",
       "      <td>We have received a Paytm login request from a ...</td>\n",
       "    </tr>\n",
       "  </tbody>\n",
       "</table>\n",
       "</div>"
      ],
      "text/plain": [
       "  label                                            message\n",
       "0   ham  Dear Customer, Purchase of INR AMT has been ma...\n",
       "1   ham  Dear Customer, Govt. of India has mandated Aad...\n",
       "2   ham  Dear Customer, your Account XX has been debite...\n",
       "3   ham  Added Rs. AMT to your Paytm wallet. Transactio...\n",
       "4   ham  We have received a Paytm login request from a ..."
      ]
     },
     "execution_count": 3,
     "metadata": {},
     "output_type": "execute_result"
    }
   ],
   "source": [
    "with open(file_name,encoding='UTF-8') as f:\n",
    "    messages = pd.read_csv(f, sep='\\t', quoting=csv.QUOTE_NONE, names=['label', 'message'])\n",
    "\n",
    "messages['message'] = messages['message'].map(lambda text:text)\n",
    "messages.head()"
   ]
  },
  {
   "cell_type": "code",
   "execution_count": 4,
   "metadata": {},
   "outputs": [
    {
     "data": {
      "text/html": [
       "<div>\n",
       "<table border=\"1\" class=\"dataframe\">\n",
       "  <thead>\n",
       "    <tr style=\"text-align: right;\">\n",
       "      <th></th>\n",
       "      <th></th>\n",
       "      <th>message</th>\n",
       "    </tr>\n",
       "    <tr>\n",
       "      <th>label</th>\n",
       "      <th></th>\n",
       "      <th></th>\n",
       "    </tr>\n",
       "  </thead>\n",
       "  <tbody>\n",
       "    <tr>\n",
       "      <th rowspan=\"4\" valign=\"top\">ham</th>\n",
       "      <th>count</th>\n",
       "      <td>35</td>\n",
       "    </tr>\n",
       "    <tr>\n",
       "      <th>unique</th>\n",
       "      <td>35</td>\n",
       "    </tr>\n",
       "    <tr>\n",
       "      <th>top</th>\n",
       "      <td>Dear Customer, Purchase of INR AMT has been ma...</td>\n",
       "    </tr>\n",
       "    <tr>\n",
       "      <th>freq</th>\n",
       "      <td>1</td>\n",
       "    </tr>\n",
       "    <tr>\n",
       "      <th rowspan=\"4\" valign=\"top\">spam</th>\n",
       "      <th>count</th>\n",
       "      <td>397</td>\n",
       "    </tr>\n",
       "    <tr>\n",
       "      <th>unique</th>\n",
       "      <td>382</td>\n",
       "    </tr>\n",
       "    <tr>\n",
       "      <th>top</th>\n",
       "      <td>Grab your best deal now! The Great Crossword S...</td>\n",
       "    </tr>\n",
       "    <tr>\n",
       "      <th>freq</th>\n",
       "      <td>3</td>\n",
       "    </tr>\n",
       "  </tbody>\n",
       "</table>\n",
       "</div>"
      ],
      "text/plain": [
       "                                                        message\n",
       "label                                                          \n",
       "ham   count                                                  35\n",
       "      unique                                                 35\n",
       "      top     Dear Customer, Purchase of INR AMT has been ma...\n",
       "      freq                                                    1\n",
       "spam  count                                                 397\n",
       "      unique                                                382\n",
       "      top     Grab your best deal now! The Great Crossword S...\n",
       "      freq                                                    3"
      ]
     },
     "execution_count": 4,
     "metadata": {},
     "output_type": "execute_result"
    }
   ],
   "source": [
    "messages.groupby('label').describe()"
   ]
  },
  {
   "cell_type": "code",
   "execution_count": 5,
   "metadata": {},
   "outputs": [
    {
     "data": {
      "text/html": [
       "<div>\n",
       "<table border=\"1\" class=\"dataframe\">\n",
       "  <thead>\n",
       "    <tr style=\"text-align: right;\">\n",
       "      <th></th>\n",
       "      <th>label</th>\n",
       "      <th>message</th>\n",
       "      <th>length</th>\n",
       "    </tr>\n",
       "  </thead>\n",
       "  <tbody>\n",
       "    <tr>\n",
       "      <th>0</th>\n",
       "      <td>ham</td>\n",
       "      <td>Dear Customer, Purchase of INR AMT has been ma...</td>\n",
       "      <td>148</td>\n",
       "    </tr>\n",
       "    <tr>\n",
       "      <th>1</th>\n",
       "      <td>ham</td>\n",
       "      <td>Dear Customer, Govt. of India has mandated Aad...</td>\n",
       "      <td>157</td>\n",
       "    </tr>\n",
       "    <tr>\n",
       "      <th>2</th>\n",
       "      <td>ham</td>\n",
       "      <td>Dear Customer, your Account XX has been debite...</td>\n",
       "      <td>143</td>\n",
       "    </tr>\n",
       "    <tr>\n",
       "      <th>3</th>\n",
       "      <td>ham</td>\n",
       "      <td>Added Rs. AMT to your Paytm wallet. Transactio...</td>\n",
       "      <td>159</td>\n",
       "    </tr>\n",
       "    <tr>\n",
       "      <th>4</th>\n",
       "      <td>ham</td>\n",
       "      <td>We have received a Paytm login request from a ...</td>\n",
       "      <td>174</td>\n",
       "    </tr>\n",
       "  </tbody>\n",
       "</table>\n",
       "</div>"
      ],
      "text/plain": [
       "  label                                            message  length\n",
       "0   ham  Dear Customer, Purchase of INR AMT has been ma...     148\n",
       "1   ham  Dear Customer, Govt. of India has mandated Aad...     157\n",
       "2   ham  Dear Customer, your Account XX has been debite...     143\n",
       "3   ham  Added Rs. AMT to your Paytm wallet. Transactio...     159\n",
       "4   ham  We have received a Paytm login request from a ...     174"
      ]
     },
     "execution_count": 5,
     "metadata": {},
     "output_type": "execute_result"
    }
   ],
   "source": [
    "messages['length'] = messages['message'].map(lambda text:len(text))\n",
    "messages.head()"
   ]
  },
  {
   "cell_type": "code",
   "execution_count": 6,
   "metadata": {},
   "outputs": [
    {
     "data": {
      "text/plain": [
       "<matplotlib.axes._subplots.AxesSubplot at 0x112f040d0>"
      ]
     },
     "execution_count": 6,
     "metadata": {},
     "output_type": "execute_result"
    },
    {
     "data": {
      "image/png": "[encoded data removed]",
      "text/plain": [
       "<matplotlib.figure.Figure at 0x112c3df50>"
      ]
     },
     "metadata": {},
     "output_type": "display_data"
    }
   ],
   "source": [
    "messages.length.plot(bins=20, kind='hist')"
   ]
  },
  {
   "cell_type": "code",
   "execution_count": 7,
   "metadata": {},
   "outputs": [
    {
     "data": {
      "text/plain": [
       "count    432.000000\n",
       "mean     164.111111\n",
       "std       63.480758\n",
       "min        4.000000\n",
       "25%      147.000000\n",
       "50%      158.000000\n",
       "75%      160.000000\n",
       "max      625.000000\n",
       "Name: length, dtype: float64"
      ]
     },
     "execution_count": 7,
     "metadata": {},
     "output_type": "execute_result"
    }
   ],
   "source": [
    "messages.length.describe()"
   ]
  },
  {
   "cell_type": "code",
   "execution_count": 8,
   "metadata": {},
   "outputs": [
    {
     "data": {
      "text/plain": [
       "array([<matplotlib.axes._subplots.AxesSubplot object at 0x112da34d0>,\n",
       "       <matplotlib.axes._subplots.AxesSubplot object at 0x114b24110>], dtype=object)"
      ]
     },
     "execution_count": 8,
     "metadata": {},
     "output_type": "execute_result"
    },
    {
     "data": {
      "image/png": "[encoded data removed]",
      "text/plain": [
       "<matplotlib.figure.Figure at 0x10a077910>"
      ]
     },
     "metadata": {},
     "output_type": "display_data"
    }
   ],
   "source": [
    "messages.hist(column='length', by='label', bins=50)"
   ]
  },
  {
   "cell_type": "markdown",
   "metadata": {},
   "source": [
    "\n",
    "# Processing Data\n",
    "\n",
    "we need to break the sentences into tokens and stem before we can use it. lets create a method for tokenizing the words."
   ]
  },
  {
   "cell_type": "code",
   "execution_count": 9,
   "metadata": {},
   "outputs": [
    {
     "name": "stdout",
     "output_type": "stream",
     "text": [
      "removing punctuations: !\"#$%&'()*+,-./:;<=>?@[\\]^_`{|}~\n"
     ]
    },
    {
     "data": {
      "text/plain": [
       "0    [dear, customer, purchase, of, inr, amt, has, ...\n",
       "1    [dear, customer, govt, of, india, has, mandate...\n",
       "2    [dear, customer, your, account, xx, has, been,...\n",
       "3    [added, rs, amt, to, your, paytm, wallet, tran...\n",
       "4    [we, have, received, a, paytm, login, request,...\n",
       "Name: message, dtype: object"
      ]
     },
     "execution_count": 9,
     "metadata": {},
     "output_type": "execute_result"
    }
   ],
   "source": [
    "print(\"removing punctuations: \"+string.punctuation)\n",
    "stemmer = PorterStemmer()\n",
    "\n",
    "def tokenize(message):\n",
    "    \"\"\" removes punctuation and tokenizes the words and stems each word.\n",
    "    \"\"\"\n",
    "    msg = \"\".join([ch for ch in message if ch not in string.punctuation]) # get rid of punctuations\n",
    "    tokens = word_tokenize(msg) \n",
    "    #stems = [stemmer.stem(x).lower() for x in tokens] #correct way to do\n",
    "    stems = [x.lower() for x in tokens] #iOS does not have porterstemmer, we are going to not use stem for now\n",
    "    return stems\n",
    "\n",
    "messages.message.head().apply(tokenize)"
   ]
  },
  {
   "cell_type": "markdown",
   "metadata": {},
   "source": [
    "# Feature Vector\n",
    "\n",
    "we need to convert the tokenized words into a vector to feed into the ml algorithm. we will create a TF-IDF feature vector from the sentence.\n",
    "\n",
    "1. create count vector\n",
    "2. convert convert vector into tf-idf vector\n"
   ]
  },
  {
   "cell_type": "code",
   "execution_count": 10,
   "metadata": {},
   "outputs": [
    {
     "name": "stdout",
     "output_type": "stream",
     "text": [
      "('Total number of words in array', 2338)\n"
     ]
    }
   ],
   "source": [
    "fv = CountVectorizer(analyzer=tokenize).fit(messages.message)\n",
    "\n",
    "print(\"Total number of words in array\", len(fv.vocabulary_))"
   ]
  },
  {
   "cell_type": "markdown",
   "metadata": {},
   "source": [
    "Lets try to test how different words are represented in the CountVector."
   ]
  },
  {
   "cell_type": "code",
   "execution_count": 11,
   "metadata": {},
   "outputs": [
    {
     "name": "stdout",
     "output_type": "stream",
     "text": [
      "  (0, 2167)\t1\n",
      "Second:\n",
      "  (0, 2167)\t1\n"
     ]
    }
   ],
   "source": [
    "print(fv.transform([\"U dun\"]))\n",
    "\n",
    "print(\"Second:\")\n",
    "print(fv.transform([\"dun U\"]))\n"
   ]
  },
  {
   "cell_type": "markdown",
   "metadata": {},
   "source": [
    "Notice sentences have same count vector generated. when we fit the vectorizer it creates a vocabulary. this vocabulary is used to create a count vector for all sentences.\n",
    "\n",
    "Lets try to vectorize a full sentence from our corpus."
   ]
  },
  {
   "cell_type": "code",
   "execution_count": 12,
   "metadata": {},
   "outputs": [
    {
     "name": "stdout",
     "output_type": "stream",
     "text": [
      "  (0, 54)\t1\n",
      "  (0, 356)\t1\n",
      "  (0, 384)\t1\n",
      "  (0, 461)\t1\n",
      "  (0, 599)\t1\n",
      "  (0, 633)\t1\n",
      "  (0, 756)\t1\n",
      "  (0, 815)\t1\n",
      "  (0, 1184)\t1\n",
      "  (0, 1552)\t1\n",
      "  (0, 1618)\t1\n",
      "  (0, 1812)\t1\n",
      "  (0, 1814)\t1\n",
      "  (0, 2107)\t1\n",
      "  (0, 2120)\t1\n",
      "  (0, 2150)\t1\n",
      "  (0, 2243)\t1\n",
      "  (0, 2326)\t1\n"
     ]
    }
   ],
   "source": [
    "print(fv.transform([messages.message[3]]))"
   ]
  },
  {
   "cell_type": "markdown",
   "metadata": {},
   "source": [
    "\n",
    "### Count Vector Vocabulary (words_array)\n",
    "\n",
    "iPhone does not have a CountVectorizer so we would need to do this step if we are to analyze a sentence. we will use the vocabulary of countvectorizer and save into words array file.\n",
    "\n",
    "words array file is the file with count positions of words and frequency of its occurance.\n",
    "\n",
    "this is inturn used to calculate term frequency.\n",
    "\n",
    "tf = Ft / Count(F)\n",
    "\n",
    "Ft => frequency of term t in current document\n",
    "Count(F) => total number of words in corpus. (max of Ft in words array)\n",
    "\n",
    "lets save this file"
   ]
  },
  {
   "cell_type": "code",
   "execution_count": 13,
   "metadata": {
    "collapsed": true
   },
   "outputs": [],
   "source": [
    "import json\n",
    "with open('words_array.json', 'wb') as fp:\n",
    "    json.dump(fv.vocabulary_, fp)"
   ]
  },
  {
   "cell_type": "markdown",
   "metadata": {},
   "source": [
    "# Messages Feature Vector\n",
    "\n",
    "Let's compose the feature vector for our entire corpus."
   ]
  },
  {
   "cell_type": "code",
   "execution_count": 14,
   "metadata": {},
   "outputs": [
    {
     "name": "stdout",
     "output_type": "stream",
     "text": [
      "(432, 2338)\n"
     ]
    }
   ],
   "source": [
    "messages_fv = fv.transform(messages.message)\n",
    "print(messages_fv.shape)"
   ]
  },
  {
   "cell_type": "markdown",
   "metadata": {},
   "source": [
    "We will use TF-IDF transformer to transform the count vector of corpus into TFIDF vector."
   ]
  },
  {
   "cell_type": "code",
   "execution_count": 15,
   "metadata": {},
   "outputs": [
    {
     "name": "stdout",
     "output_type": "stream",
     "text": [
      "  (0, 2326)\t0.105471941541\n",
      "  (0, 2243)\t0.196773143001\n",
      "  (0, 2150)\t0.266910001602\n",
      "  (0, 2120)\t0.0819653738833\n",
      "  (0, 2107)\t0.311691861045\n",
      "  (0, 1814)\t0.238183115152\n",
      "  (0, 1812)\t0.160623402245\n",
      "  (0, 1618)\t0.224123234719\n",
      "  (0, 1552)\t0.0743681404273\n",
      "  (0, 1184)\t0.257999403639\n",
      "  (0, 815)\t0.266910001602\n",
      "  (0, 756)\t0.277815692125\n",
      "  (0, 633)\t0.182713262567\n",
      "  (0, 599)\t0.311691861045\n",
      "  (0, 461)\t0.228375740085\n",
      "  (0, 384)\t0.238183115152\n",
      "  (0, 356)\t0.291875572558\n",
      "  (0, 54)\t0.311691861045\n"
     ]
    }
   ],
   "source": [
    "tfidf = TfidfTransformer().fit(messages_fv)\n",
    "\n",
    "# test tfidf of same message as before.\n",
    "t = tfidf.transform(fv.transform([messages.message[3]]))\n",
    "print(t)"
   ]
  },
  {
   "cell_type": "markdown",
   "metadata": {},
   "source": [
    "We see that the values are all normalized and weights are given according to TF-IDF importance. this gives more relevancy for the model to use.\n",
    "\n",
    "Lets compute the tfidf of the entire corpus."
   ]
  },
  {
   "cell_type": "code",
   "execution_count": 16,
   "metadata": {},
   "outputs": [
    {
     "name": "stdout",
     "output_type": "stream",
     "text": [
      "(432, 2338)\n"
     ]
    }
   ],
   "source": [
    "messages_tfidf = tfidf.transform(messages_fv)\n",
    "print(messages_tfidf.shape)"
   ]
  },
  {
   "cell_type": "markdown",
   "metadata": {
    "scrolled": true
   },
   "source": [
    "### IDF \n",
    "\n",
    "words idf is simple list of words and their IDF values\n",
    "\n",
    "idf = log(N/Nt)\n",
    "\n",
    "N => number of documents\n",
    "N => number of documets with word t\n",
    "\n",
    "we need to compute tfidf of sentence in iOS and we will need the words_idf values as input for computing the vector. lets save the idf array into a file. This is later used in the iOS code."
   ]
  },
  {
   "cell_type": "code",
   "execution_count": 17,
   "metadata": {},
   "outputs": [
    {
     "name": "stdout",
     "output_type": "stream",
     "text": [
      "('IDF of corpus :', array([ 5.12482758,  6.37759055,  6.37759055, ...,  5.97212544,\n",
      "        4.99129619,  6.37759055]))\n"
     ]
    }
   ],
   "source": [
    "idf = {}\n",
    "idf['idf'] = tfidf.idf_.tolist()\n",
    "\n",
    "with open('words_idf.json', 'wb') as fp:\n",
    "    json.dump(idf, fp)\n",
    "\n",
    "print(\"IDF of corpus :\", tfidf.idf_)\n"
   ]
  },
  {
   "cell_type": "markdown",
   "metadata": {},
   "source": [
    "# Model Training\n",
    "\n",
    "For the model we will use a simple Linear SVM. SVM seems to be getting the most accurate results and we can easily use this model in iPhone as well. lets create and train an Linear SVM model."
   ]
  },
  {
   "cell_type": "code",
   "execution_count": 18,
   "metadata": {},
   "outputs": [
    {
     "name": "stdout",
     "output_type": "stream",
     "text": [
      "CPU times: user 2.62 ms, sys: 1.23 ms, total: 3.84 ms\n",
      "Wall time: 5.14 ms\n",
      "('accuracy', 0.99768518518518523)\n",
      "('confusion matrix\\n', array([[ 34,   1],\n",
      "       [  0, 397]]))\n",
      "(row=expected, col=predicted)\n"
     ]
    }
   ],
   "source": [
    "%time spam_detector = LinearSVC().fit(messages_tfidf, messages.label)\n",
    "\n",
    "predictions = spam_detector.predict(messages_tfidf)\n",
    "\n",
    "print('accuracy', accuracy_score(messages['label'], predictions))\n",
    "print('confusion matrix\\n', confusion_matrix(messages['label'], predictions))\n",
    "print('(row=expected, col=predicted)')\n"
   ]
  },
  {
   "cell_type": "markdown",
   "metadata": {},
   "source": [
    "It looks like the model has got a really good accuracy. confusion matrix is also showing great results. \n",
    "\n",
    "Lets plot this and view this a little nicely"
   ]
  },
  {
   "cell_type": "code",
   "execution_count": 19,
   "metadata": {},
   "outputs": [
    {
     "data": {
      "text/plain": [
       "Text(0.5,0,u'predicted label')"
      ]
     },
     "execution_count": 19,
     "metadata": {},
     "output_type": "execute_result"
    },
    {
     "data": {
      "image/png": "[encoded data removed]",
      "text/plain": [
       "<matplotlib.figure.Figure at 0x114e14090>"
      ]
     },
     "metadata": {},
     "output_type": "display_data"
    }
   ],
   "source": [
    "plt.matshow(confusion_matrix(messages['label'], predictions), cmap=plt.cm.binary, interpolation='nearest')\n",
    "plt.title('confusion matrix')\n",
    "plt.colorbar()\n",
    "plt.ylabel('expected label')\n",
    "plt.xlabel('predicted label')"
   ]
  },
  {
   "cell_type": "code",
   "execution_count": 20,
   "metadata": {},
   "outputs": [
    {
     "name": "stdout",
     "output_type": "stream",
     "text": [
      "             precision    recall  f1-score   support\n",
      "\n",
      "        ham       1.00      0.97      0.99        35\n",
      "       spam       1.00      1.00      1.00       397\n",
      "\n",
      "avg / total       1.00      1.00      1.00       432\n",
      "\n"
     ]
    }
   ],
   "source": [
    "print(classification_report(messages['label'], predictions))"
   ]
  },
  {
   "cell_type": "markdown",
   "metadata": {
    "collapsed": true
   },
   "source": [
    "# Convert to CoreML"
   ]
  },
  {
   "cell_type": "code",
   "execution_count": 21,
   "metadata": {
    "collapsed": true
   },
   "outputs": [],
   "source": [
    "import coremltools\n",
    "coreml_model = coremltools.converters.sklearn.convert(spam_detector, \"message\", \"spam_or_not\")\n",
    "\n",
    "#set parameters of the model\n",
    "coreml_model.short_description = \"Classify whether message is spam or not\"\n",
    "coreml_model.input_description[\"message\"] = \"TFIDF of message to be classified\"\n",
    "coreml_model.output_description[\"spam_or_not\"] = \"Whether message is spam or not\"\n",
    "#save the model\n",
    "coreml_model.save(\"SpamMessageClassifier.mlmodel\")"
   ]
  },
  {
   "cell_type": "code",
   "execution_count": null,
   "metadata": {
    "collapsed": true
   },
   "outputs": [],
   "source": []
  }
 ],
 "metadata": {
  "anaconda-cloud": {},
  "kernelspec": {
   "display_name": "Python 2",
   "language": "python",
   "name": "python2"
  },
  "language_info": {
   "codemirror_mode": {
    "name": "ipython",
    "version": 2
   },
   "file_extension": ".py",
   "mimetype": "text/x-python",
   "name": "python",
   "nbconvert_exporter": "python",
   "pygments_lexer": "ipython2",
   "version": "2.7.13"
  }
 },
 "nbformat": 4,
 "nbformat_minor": 1
}
